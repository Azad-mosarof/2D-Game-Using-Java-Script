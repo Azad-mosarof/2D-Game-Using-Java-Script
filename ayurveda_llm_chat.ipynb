{
  "nbformat": 4,
  "nbformat_minor": 0,
  "metadata": {
    "colab": {
      "provenance": [],
      "authorship_tag": "ABX9TyO1QfXyHeZ55qWMphmmyvdF",
      "include_colab_link": true
    },
    "kernelspec": {
      "name": "python3",
      "display_name": "Python 3"
    },
    "language_info": {
      "name": "python"
    }
  },
  "cells": [
    {
      "cell_type": "markdown",
      "metadata": {
        "id": "view-in-github",
        "colab_type": "text"
      },
      "source": [
        "<a href=\"https://colab.research.google.com/github/Azad-mosarof/2D-Game-Using-Java-Script/blob/main/ayurveda_llm_chat.ipynb\" target=\"_parent\"><img src=\"https://colab.research.google.com/assets/colab-badge.svg\" alt=\"Open In Colab\"/></a>"
      ]
    },
    {
      "cell_type": "code",
      "source": [
        "!pip install pymupdf\n",
        "!pip install asyncio==3.4.3 asyncpg==0.27.0 cloud-sql-python-connector[\"asyncpg\"]==1.2.3\n",
        "!pip install numpy==1.22.4 pandas==1.5.3\n",
        "!pip install pgvector==0.1.8\n",
        "!pip install langchain==0.0.196 transformers==4.30.1\n",
        "!pip install google-cloud-aiplatform==1.26.0"
      ],
      "metadata": {
        "id": "hG7NVISjUARF"
      },
      "execution_count": null,
      "outputs": []
    },
    {
      "cell_type": "code",
      "source": [
        "import IPython\n",
        "\n",
        "app = IPython.Application.instance()\n",
        "app.kernel.do_shutdown(True)"
      ],
      "metadata": {
        "colab": {
          "base_uri": "https://localhost:8080/"
        },
        "id": "_ZfDs1UPWbip",
        "outputId": "d013990b-80a3-4bd5-a78b-ceb5354899b8"
      },
      "execution_count": null,
      "outputs": [
        {
          "output_type": "execute_result",
          "data": {
            "text/plain": [
              "{'status': 'ok', 'restart': True}"
            ]
          },
          "metadata": {},
          "execution_count": 2
        }
      ]
    },
    {
      "cell_type": "code",
      "execution_count": null,
      "metadata": {
        "id": "nBA5S4SmSvxM"
      },
      "outputs": [],
      "source": [
        "project_id = \"\"  # @param {type:\"string\"}\n",
        "database_password = \"\"  # @param {type:\"string\"}\n",
        "region = \"us-west2\"  # @param {type:\"string\"}\n",
        "instance_name = \"demo-pg-vector\"  # @param {type:\"string\"}\n",
        "database_name = \"ayurveda-chat\"  # @param {type:\"string\"}\n",
        "database_user = \"ayurveda-admin\"  # @param {type:\"string\"}\n",
        "\n",
        "\n",
        "# Quick input validations.\n",
        "assert project_id, \"⚠️ Please provide a Google Cloud project ID\"\n",
        "assert region, \"⚠️ Please provide a Google Cloud region\"\n",
        "assert instance_name, \"⚠️ Please provide the name of your instance\"\n",
        "assert database_name, \"⚠️ Please provide a database name\"\n",
        "assert database_user, \"⚠️ Please provide a database user\"\n",
        "assert database_password, \"⚠️ Please provide a database password\""
      ]
    },
    {
      "cell_type": "code",
      "source": [
        "#@markdown ###Authenticate your Google Cloud Account and enable APIs.\n",
        "# Authenticate gcloud.\n",
        "from google.colab import auth\n",
        "auth.authenticate_user()\n",
        "\n",
        "# Configure gcloud.\n",
        "!gcloud config set project {project_id}\n",
        "\n",
        "# Grant Cloud SQL Client role to authenticated user\n",
        "current_user = !gcloud auth list --filter=status:ACTIVE --format=\"value(account)\"\n",
        "\n",
        "!gcloud projects add-iam-policy-binding {project_id} \\\n",
        "  --member=user:{current_user[0]} \\\n",
        "  --role=\"roles/cloudsql.client\"\n",
        "\n",
        "\n",
        "# Enable Cloud SQL Admin API\n",
        "!gcloud services enable sqladmin.googleapis.com\n",
        "!gcloud services enable aiplatform.googleapis.com"
      ],
      "metadata": {
        "id": "Xoozm-rISxW1"
      },
      "execution_count": null,
      "outputs": []
    },
    {
      "cell_type": "code",
      "source": [
        "#@markdown Create and setup a Cloud SQL PostgreSQL instance, if not done already.\n",
        "database_version = !gcloud sql instances describe {instance_name} --format=\"value(databaseVersion)\"\n",
        "if database_version[0].startswith(\"POSTGRES\"):\n",
        "  print(\"Found an existing Postgres Cloud SQL Instance!\")\n",
        "else:\n",
        "  print(\"Creating new Cloud SQL instance...\")\n",
        "  !gcloud sql instances create {instance_name} --database-version=POSTGRES_15 \\\n",
        "    --region={region} --cpu=1 --memory=4GB --root-password={database_password}\n",
        "\n",
        "# Create the database, if it does not exist.\n",
        "out = !gcloud sql databases list --instance={instance_name} --filter=\"NAME:{database_name}\" --format=\"value(NAME)\"\n",
        "if ''.join(out) == database_name:\n",
        "  print(\"Database %s already exists, skipping creation.\" % database_name)\n",
        "else:\n",
        "  !gcloud sql databases create {database_name} --instance={instance_name}\n",
        "\n",
        "# Create the database user for accessing the database.\n",
        "!gcloud sql users create {database_user} \\\n",
        "  --instance={instance_name} \\\n",
        "  --password={database_password}"
      ],
      "metadata": {
        "colab": {
          "base_uri": "https://localhost:8080/"
        },
        "id": "5ftnrOU_S-ls",
        "outputId": "7bc3fe7f-87b6-4f82-a8bd-f53d854d51c5"
      },
      "execution_count": null,
      "outputs": [
        {
          "output_type": "stream",
          "name": "stdout",
          "text": [
            "Creating new Cloud SQL instance...\n",
            "Created [https://sqladmin.googleapis.com/sql/v1beta4/projects/scms-face-recognition/instances/demo-pg-vector].\n",
            "NAME            DATABASE_VERSION  LOCATION    TIER              PRIMARY_ADDRESS  PRIVATE_ADDRESS  STATUS\n",
            "demo-pg-vector  POSTGRES_15       us-west2-a  db-custom-1-4096  35.236.64.23     -                RUNNABLE\n",
            "Created database [retail].\n",
            "instance: demo-pg-vector\n",
            "name: retail\n",
            "project: scms-face-recognition\n",
            "Created user [retail-admin].\n"
          ]
        }
      ]
    },
    {
      "cell_type": "code",
      "source": [
        "# @markdown Verify that you are able to connect to the database. Executing this block should print the current PostgreSQL server version.\n",
        "\n",
        "import asyncio\n",
        "import asyncpg\n",
        "from google.cloud.sql.connector import Connector\n",
        "\n",
        "\n",
        "async def main():\n",
        "    # get current running event loop to be used with Connector\n",
        "    loop = asyncio.get_running_loop()\n",
        "    # initialize Connector object as async context manager\n",
        "    async with Connector(loop=loop) as connector:\n",
        "        # create connection to Cloud SQL database\n",
        "        conn: asyncpg.Connection = await connector.connect_async(\n",
        "            f\"{project_id}:{region}:{instance_name}\",  # Cloud SQL instance connection name\n",
        "            \"asyncpg\",\n",
        "            user=f\"{database_user}\",\n",
        "            password=f\"{database_password}\",\n",
        "            db=f\"{database_name}\"\n",
        "            # ... additional database driver args\n",
        "        )\n",
        "\n",
        "        # query Cloud SQL database\n",
        "        results = await conn.fetch(\"SELECT version()\")\n",
        "        print(results[0][\"version\"])\n",
        "\n",
        "        # close asyncpg connection\n",
        "        await conn.close()\n",
        "\n",
        "\n",
        "# Test connection with `asyncio`\n",
        "await main()  # type: ignore"
      ],
      "metadata": {
        "colab": {
          "base_uri": "https://localhost:8080/"
        },
        "id": "wNLUowiBWmPQ",
        "outputId": "093f906d-3273-4c65-8aac-0b3e51a48947"
      },
      "execution_count": null,
      "outputs": [
        {
          "output_type": "stream",
          "name": "stdout",
          "text": [
            "PostgreSQL 15.4 on x86_64-pc-linux-gnu, compiled by Debian clang version 12.0.1, 64-bit\n"
          ]
        }
      ]
    },
    {
      "cell_type": "code",
      "source": [
        "import fitz\n",
        "\n",
        "def read_pdf(file_path):\n",
        "    pdf_document = fitz.open(file_path)\n",
        "    text_chunks = []\n",
        "\n",
        "    for page_number in range(pdf_document.page_count):\n",
        "        page = pdf_document[page_number]\n",
        "        text = page.get_text()\n",
        "        text_chunks.extend(text.split())\n",
        "\n",
        "    pdf_document.close()\n",
        "    return text_chunks\n",
        "\n",
        "\n",
        "def clean_text(text_chunks):\n",
        "    cleaned_text = []\n",
        "    for chunk in text_chunks:\n",
        "        cleaned_chunk = chunk.replace('�', '').strip()\n",
        "        if cleaned_chunk:\n",
        "            cleaned_text.append(cleaned_chunk)\n",
        "\n",
        "    return cleaned_text\n",
        "\n",
        "\n",
        "def chunk_text_by_words(text, target_words):\n",
        "    chunks = []\n",
        "    current_chunk = []\n",
        "\n",
        "    for word in text:\n",
        "        current_chunk.append(word)\n",
        "\n",
        "        if len(current_chunk) >= target_words:\n",
        "            chunks.append(\" \".join(current_chunk))\n",
        "            current_chunk = []\n",
        "\n",
        "    if current_chunk:\n",
        "        chunks.append(\" \".join(current_chunk))\n",
        "\n",
        "    return chunks\n",
        "\n",
        "pdf_file_path = 'data.pdf'\n",
        "words = read_pdf(pdf_file_path)\n",
        "\n",
        "cleaned_words = clean_text(words)\n",
        "\n",
        "target_words = 500\n",
        "word_chunks_500 = chunk_text_by_words(cleaned_words, target_words)\n",
        "\n",
        "# for i, chunk in enumerate(word_chunks_500):\n",
        "#     print(f\"Chunk {i + 1}:\\n{chunk}\\n\")\n",
        "\n",
        "len(word_chunks_500)"
      ],
      "metadata": {
        "id": "2QLtfazhTdjq"
      },
      "execution_count": null,
      "outputs": []
    },
    {
      "cell_type": "code",
      "source": [
        "from langchain.text_splitter import RecursiveCharacterTextSplitter\n",
        "\n",
        "text_splitter = RecursiveCharacterTextSplitter(\n",
        "    separators=[\"\\n\"],\n",
        "    chunk_size=500,\n",
        "    chunk_overlap=0,\n",
        "    length_function=len,\n",
        ")\n",
        "chunks = []\n",
        "for row in word_chunks_500:\n",
        "    splits = text_splitter.create_documents([row])\n",
        "    for s in splits:\n",
        "        r = {\"content\": s.page_content}\n",
        "        chunks.append(r)"
      ],
      "metadata": {
        "id": "v7U1q_4EeXJh"
      },
      "execution_count": null,
      "outputs": []
    },
    {
      "cell_type": "code",
      "source": [
        "len(chunks)"
      ],
      "metadata": {
        "colab": {
          "base_uri": "https://localhost:8080/"
        },
        "id": "B-vcqOo5e6GB",
        "outputId": "30c7d2fe-9b99-4587-ebd1-e48b53866711"
      },
      "execution_count": null,
      "outputs": [
        {
          "output_type": "execute_result",
          "data": {
            "text/plain": [
              "174"
            ]
          },
          "metadata": {},
          "execution_count": 30
        }
      ]
    },
    {
      "cell_type": "code",
      "source": [
        "from langchain.embeddings import VertexAIEmbeddings\n",
        "from google.cloud import aiplatform\n",
        "import time\n",
        "\n",
        "# Initialize AI Platform\n",
        "aiplatform.init(project=f\"{project_id}\", location=f\"{region}\")\n",
        "embeddings_service = VertexAIEmbeddings()\n",
        "\n",
        "# Helper function to retry failed API requests with exponential backoff\n",
        "def retry_with_backoff(func, *args, retry_delay=5, backoff_factor=2, **kwargs):\n",
        "    max_attempts = 10\n",
        "    retries = 0\n",
        "    for i in range(max_attempts):\n",
        "        try:\n",
        "            return func(*args, **kwargs)\n",
        "        except Exception as e:\n",
        "            print(f\"error: {e}\")\n",
        "            retries += 1\n",
        "            wait = retry_delay * (backoff_factor**retries)\n",
        "            print(f\"Retry after waiting for {wait} seconds...\")\n",
        "            time.sleep(wait)\n",
        "\n",
        "# Generate vector embeddings for each chunk\n",
        "batch_size = 5\n",
        "for i in range(0, len(chunks), batch_size):\n",
        "    request = chunks[i : i + batch_size]\n",
        "    response = retry_with_backoff(embeddings_service.embed_documents, request)\n",
        "    # Store the retrieved vector embeddings for each chunk back.\n",
        "    for chunk, embedding in zip(chunks[i : i + batch_size], response):\n",
        "        print(f\"Chunk: {chunk}, Embedding: {embedding}\")\n",
        "        chunk[\"embedding\"] = embedding\n"
      ],
      "metadata": {
        "id": "Yx1B4mzkT_Xr"
      },
      "execution_count": null,
      "outputs": []
    },
    {
      "cell_type": "code",
      "source": [
        "import pandas as pd\n",
        "product_embeddings = pd.DataFrame(chunks)\n",
        "product_embeddings.iloc[173]"
      ],
      "metadata": {
        "colab": {
          "base_uri": "https://localhost:8080/"
        },
        "id": "u7w3bmgCgH_F",
        "outputId": "b9fd8678-7b2c-4882-e05c-f4f2915b6df4"
      },
      "execution_count": null,
      "outputs": [
        {
          "output_type": "execute_result",
          "data": {
            "text/plain": [
              "content      information for Ayurvedic practitioners mahari...\n",
              "embedding    [-0.01698254607617855, -0.035865772515535355, ...\n",
              "Name: 173, dtype: object"
            ]
          },
          "metadata": {},
          "execution_count": 39
        }
      ]
    },
    {
      "cell_type": "code",
      "source": [
        "# Store the generated vector embeddings in a PostgreSQL table.\n",
        "# This code may run for a few minutes.\n",
        "\n",
        "import asyncio\n",
        "import asyncpg\n",
        "from google.cloud.sql.connector import Connector\n",
        "import numpy as np\n",
        "from pgvector.asyncpg import register_vector\n",
        "\n",
        "\n",
        "async def main():\n",
        "    loop = asyncio.get_running_loop()\n",
        "    async with Connector(loop=loop) as connector:\n",
        "        # Create connection to Cloud SQL database.\n",
        "        conn: asyncpg.Connection = await connector.connect_async(\n",
        "            f\"{project_id}:{region}:{instance_name}\",\n",
        "            \"asyncpg\",\n",
        "            user=f\"{database_user}\",\n",
        "            password=f\"{database_password}\",\n",
        "            db=f\"{database_name}\",\n",
        "        )\n",
        "\n",
        "        await conn.execute(\"CREATE EXTENSION IF NOT EXISTS vector\")\n",
        "        await register_vector(conn)\n",
        "\n",
        "        await conn.execute(\"DROP TABLE IF EXISTS product_embeddings\")\n",
        "        # Create the `content_embeddings` table to store vector embeddings.\n",
        "        await conn.execute(\n",
        "            \"\"\"CREATE TABLE content_embeddings(\n",
        "                                content TEXT,\n",
        "                                embedding vector(768))\"\"\"\n",
        "        )\n",
        "\n",
        "        # Store all the generated embeddings back into the database.\n",
        "        for index, row in product_embeddings.iterrows():\n",
        "            await conn.execute(\n",
        "                \"INSERT INTO content_embeddings (content, embedding) VALUES ($1, $2)\",\n",
        "                row[\"content\"],\n",
        "                np.ravel(row[\"embedding\"])\n",
        "            )\n",
        "\n",
        "        await conn.close()\n",
        "\n",
        "await main()  # type: ignore"
      ],
      "metadata": {
        "id": "AMzRwmtQhcrY"
      },
      "execution_count": null,
      "outputs": []
    },
    {
      "cell_type": "code",
      "source": [
        "from pgvector.asyncpg import register_vector\n",
        "import asyncio\n",
        "import asyncpg\n",
        "from google.cloud.sql.connector import Connector\n",
        "from langchain.chains.summarize import load_summarize_chain\n",
        "from langchain.docstore.document import Document\n",
        "from langchain.llms import VertexAI\n",
        "from langchain import PromptTemplate, LLMChain\n",
        "from IPython.display import display, Markdown\n",
        "from langchain.embeddings import VertexAIEmbeddings\n",
        "from google.cloud import aiplatform\n",
        "\n",
        "# @markdown Enter a short description of the toy to search for within a specified price range:\n",
        "question = \"why ayurveda is better than modern medicine?\"  # @param {type:\"string\"}\n",
        "assert question, \"⚠️ Please input a valid input question text\"\n",
        "\n",
        "aiplatform.init(project=f\"{project_id}\", location=f\"{region}\")\n",
        "\n",
        "embeddings_service = VertexAIEmbeddings()\n",
        "qe = embeddings_service.embed_query([question])\n",
        "\n",
        "llm = VertexAI()\n",
        "\n",
        "map_prompt_template = \"\"\"\n",
        "              You will be given a detailed description of an health issue.\n",
        "              This description is enclosed in triple backticks (```).\n",
        "              Using this description only, extract the name of the disease,\n",
        "              the price of the toy and its features.\n",
        "\n",
        "              ```{text}```\n",
        "              SUMMARY:\n",
        "              \"\"\"\n",
        "\n",
        "map_prompt = PromptTemplate(template=map_prompt_template, input_variables=[\"text\"])\n",
        "\n",
        "combine_prompt_template = \"\"\"\n",
        "                You will be given many detailed information about an health issue\n",
        "                enclosed in triple backticks (```) and a question enclosed in\n",
        "                double backticks(``).\n",
        "                Select one  that is most relevant to answer the question.\n",
        "                Using that selected toy description, answer the following\n",
        "                question in as much detail as possible.\n",
        "                You should only use the information in the description.\n",
        "                Your answer should include the name of the diease or problem of the user and how to treatement that problem\n",
        "                through ayurveda. Your answer should be less than 300 words.\n",
        "                Your answer should be in Markdown in a numbered list format.\n",
        "\n",
        "\n",
        "                Description:\n",
        "                ```{text}```\n",
        "\n",
        "\n",
        "                Question:\n",
        "                ``{user_query}``\n",
        "\n",
        "\n",
        "                Answer:\n",
        "                \"\"\"\n",
        "\n",
        "combine_prompt = PromptTemplate(\n",
        "    template=combine_prompt_template, input_variables=[\"text\", \"user_query\"]\n",
        ")\n",
        "\n",
        "async def main():\n",
        "    loop = asyncio.get_running_loop()\n",
        "    async with Connector(loop=loop) as connector:\n",
        "        # Create connection to Cloud SQL database.\n",
        "        conn: asyncpg.Connection = await connector.connect_async(\n",
        "            f\"{project_id}:{region}:{instance_name}\",  # Cloud SQL instance connection name\n",
        "            \"asyncpg\",\n",
        "            user=f\"{database_user}\",\n",
        "            password=f\"{database_password}\",\n",
        "            db=f\"{database_name}\",\n",
        "        )\n",
        "\n",
        "        await register_vector(conn)\n",
        "        similarity_threshold = 0.1\n",
        "        num_matches = 50\n",
        "\n",
        "        # Find similar content to the query using cosine similarity search\n",
        "        # over all vector embeddings. This new feature is provided by `pgvector`.\n",
        "        # Perform vector similarity search\n",
        "        results = await conn.fetch(\n",
        "            \"\"\"\n",
        "            WITH vector_matches AS (\n",
        "              SELECT content, 1 - (embedding <=> $1) AS similarity\n",
        "              FROM content_embeddings\n",
        "              WHERE 1 - (embedding <=> $1) > $2\n",
        "              ORDER BY similarity DESC\n",
        "              LIMIT $3\n",
        "            )\n",
        "            SELECT content FROM vector_matches\n",
        "            \"\"\",\n",
        "            qe,\n",
        "            similarity_threshold,\n",
        "            num_matches,\n",
        "        )\n",
        "\n",
        "        if len(results) == 0:\n",
        "            raise Exception(\"Did not find any results. Adjust the query parameters.\")\n",
        "\n",
        "        # Collect the results\n",
        "        matches = pd.DataFrame(results, columns=[\"content\"])\n",
        "\n",
        "        await conn.close()\n",
        "\n",
        "    return matches\n",
        "\n",
        "\n",
        "matches = await main()  # type: ignore\n",
        "matches = pd.DataFrame(matches)\n",
        "# matches.head(5)\n",
        "\n",
        "docs = [Document(page_content=t) for t in matches]\n",
        "chain = load_summarize_chain(\n",
        "    llm, chain_type=\"map_reduce\", map_prompt=map_prompt, combine_prompt=combine_prompt\n",
        ")\n",
        "answer = chain.run(\n",
        "    {\n",
        "        \"input_documents\": docs,\n",
        "        \"user_query\": question,\n",
        "    }\n",
        ")\n",
        "\n",
        "\n",
        "display(Markdown(answer))"
      ],
      "metadata": {
        "colab": {
          "base_uri": "https://localhost:8080/",
          "height": 132
        },
        "id": "v9VWcn-gkYCa",
        "outputId": "3842c314-acea-4c73-c587-99e224998917"
      },
      "execution_count": null,
      "outputs": [
        {
          "output_type": "display_data",
          "data": {
            "text/plain": [
              "<IPython.core.display.Markdown object>"
            ],
            "text/markdown": " 1.  Ayurveda is a holistic system of medicine that treats the whole person, not just the symptoms of the disease. \n2.  It focuses on preventing disease and promoting health, rather than just treating symptoms. \n3.  Ayurvedic treatments are typically less expensive than modern medical treatments. \n4.  Ayurvedic medicines are typically made from natural ingredients, which are less likely to cause side effects than synthetic drugs. \n5.  Finally, Ayurveda has been practiced for thousands of years and has a long history of safety and efficacy."
          },
          "metadata": {}
        }
      ]
    },
    {
      "cell_type": "code",
      "source": [
        "# @markdown Clean-up and delete the Cloud SQL instance.\n",
        "!gcloud sql instances patch {instance_name} --no-deletion-protection\n",
        "!gcloud sql instances delete {instance_name} --quiet"
      ],
      "metadata": {
        "colab": {
          "base_uri": "https://localhost:8080/"
        },
        "id": "EElRV795wSaO",
        "outputId": "7904c7b1-f33a-4854-ae69-6797d159ab87"
      },
      "execution_count": null,
      "outputs": [
        {
          "output_type": "stream",
          "name": "stdout",
          "text": [
            "The following message will be used for the patch API method.\n",
            "{\"name\": \"demo-pg-vector\", \"project\": \"scms-face-recognition\", \"settings\": {\"deletionProtectionEnabled\": false}}\n",
            "Updated [https://sqladmin.googleapis.com/sql/v1beta4/projects/scms-face-recognition/instances/demo-pg-vector].\n",
            "Deleted [https://sqladmin.googleapis.com/sql/v1beta4/projects/scms-face-recognition/instances/demo-pg-vector].\n"
          ]
        }
      ]
    }
  ]
}